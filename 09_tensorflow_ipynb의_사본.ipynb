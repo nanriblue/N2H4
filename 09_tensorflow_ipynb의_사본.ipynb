{
  "nbformat": 4,
  "nbformat_minor": 0,
  "metadata": {
    "colab": {
      "name": "09_tensorflow.ipynb의 사본",
      "version": "0.3.2",
      "provenance": [],
      "collapsed_sections": [],
      "include_colab_link": true
    },
    "language_info": {
      "codemirror_mode": {
        "name": "ipython",
        "version": 3
      },
      "file_extension": ".py",
      "mimetype": "text/x-python",
      "name": "python",
      "nbconvert_exporter": "python",
      "pygments_lexer": "ipython3",
      "version": "3.6.4"
    },
    "kernelspec": {
      "display_name": "Python 3",
      "language": "python",
      "name": "python3"
    }
  },
  "cells": [
    {
      "cell_type": "markdown",
      "metadata": {
        "id": "view-in-github",
        "colab_type": "text"
      },
      "source": [
        "<a href=\"https://colab.research.google.com/github/nanriblue/N2H4/blob/master/09_tensorflow_ipynb%EC%9D%98_%EC%82%AC%EB%B3%B8.ipynb\" target=\"_parent\"><img src=\"https://colab.research.google.com/assets/colab-badge.svg\" alt=\"Open In Colab\"/></a>"
      ]
    },
    {
      "cell_type": "markdown",
      "metadata": {
        "id": "UR5S6wUFXTlv",
        "colab_type": "text"
      },
      "source": [
        "# 딥러닝과 텐서플로"
      ]
    },
    {
      "cell_type": "markdown",
      "metadata": {
        "id": "BFLz53CJXTlw",
        "colab_type": "text"
      },
      "source": [
        "## 학습목표\n",
        "\n",
        "- 딥러닝의 개념\n",
        "- 텐서플로의 사용법  \n",
        "ㄴ모델은 손델게 없는데 딥러닝은 몇 층을 쌓을거냐 등등 선택요소가 많음"
      ]
    },
    {
      "cell_type": "markdown",
      "metadata": {
        "id": "R8sbUCeNXTlx",
        "colab_type": "text"
      },
      "source": [
        "## 뉴런\n",
        "\n",
        "신경세포\n",
        "\n",
        "![](https://upload.wikimedia.org/wikipedia/commons/thumb/1/10/Blausen_0657_MultipolarNeuron.png/640px-Blausen_0657_MultipolarNeuron.png)"
      ]
    },
    {
      "cell_type": "markdown",
      "metadata": {
        "id": "xDV2x-SyXTly",
        "colab_type": "text"
      },
      "source": [
        "## 인공신경망\n",
        "\n",
        "- 생물의 신경망을 흉내낸 기계학습의 한 방식\n",
        "\n",
        "![](https://icdn6.digitaltrends.com/image/artificial_neural_network_1-720x720.jpg)"
      ]
    },
    {
      "cell_type": "markdown",
      "metadata": {
        "id": "VpY5Tk3UXTlz",
        "colab_type": "text"
      },
      "source": [
        "## 레이어\n",
        "\n",
        "- 일반적으로 신경망은 레이어(layer, 층) 단위로 구성\n",
        "- 레이어에서 레이어로 신호가 전달/처리\n",
        "- 레이어가 클 수록, 많아질 수록 성능이 향상"
      ]
    },
    {
      "cell_type": "markdown",
      "metadata": {
        "id": "C4a9qaEgXTl0",
        "colab_type": "text"
      },
      "source": [
        "## 딥러닝\n",
        "\n",
        "- 레이어가 아주 많은 신경망\n",
        "- 80~90년대에 이론적 발전\n",
        "- 현실적 문제:\n",
        "  - 데이터 부족\n",
        "  - 느린 컴퓨터"
      ]
    },
    {
      "cell_type": "markdown",
      "metadata": {
        "id": "XqLTobApXTl0",
        "colab_type": "text"
      },
      "source": [
        "## 딥러닝의 발전\n",
        "\n",
        "- '딥러닝'이라는 표현은 2006년경부터 사용\n",
        "- 2012년부터 학계에서 인기를 얻기 시작\n",
        "- 빅데이터로 데이터 부족 문제 해결\n",
        "- 컴퓨터 성능 향상과 GPU의 활용"
      ]
    },
    {
      "cell_type": "markdown",
      "metadata": {
        "id": "RdEk-wbCXTl1",
        "colab_type": "text"
      },
      "source": [
        "## 텐서플로\n",
        "\n",
        "- 구글이 개발한 딥러닝을 위한 라이브러리\n",
        "- 고성능 계산을 지원\n",
        "- 2019년 3월 현재 버전 1.13 (곧 2.0 출시 예정)"
      ]
    },
    {
      "cell_type": "markdown",
      "metadata": {
        "id": "WsSXUskwXTl2",
        "colab_type": "text"
      },
      "source": [
        "## 텐서플로 설치\n",
        "\n",
        "CPU 버전"
      ]
    },
    {
      "cell_type": "code",
      "metadata": {
        "id": "iI8S5LdDXTl3",
        "colab_type": "code",
        "outputId": "2a934f9c-5e92-4b46-c199-98a86cec2cb1",
        "colab": {}
      },
      "source": [
        "!pip install tensorflow"
      ],
      "execution_count": 0,
      "outputs": [
        {
          "output_type": "stream",
          "text": [
            "Requirement already satisfied: tensorflow in /anaconda3/lib/python3.6/site-packages (1.12.0)\n",
            "Requirement already satisfied: astor>=0.6.0 in /anaconda3/lib/python3.6/site-packages (from tensorflow) (0.7.1)\n",
            "Requirement already satisfied: numpy>=1.13.3 in /anaconda3/lib/python3.6/site-packages (from tensorflow) (1.15.3)\n",
            "Requirement already satisfied: gast>=0.2.0 in /anaconda3/lib/python3.6/site-packages (from tensorflow) (0.2.1.post0)\n",
            "Requirement already satisfied: keras-applications>=1.0.6 in /anaconda3/lib/python3.6/site-packages (from tensorflow) (1.0.6)\n",
            "Requirement already satisfied: grpcio>=1.8.6 in /anaconda3/lib/python3.6/site-packages (from tensorflow) (1.17.1)\n",
            "Requirement already satisfied: tensorboard<1.13.0,>=1.12.0 in /anaconda3/lib/python3.6/site-packages (from tensorflow) (1.12.2)\n",
            "Requirement already satisfied: wheel>=0.26 in /anaconda3/lib/python3.6/site-packages (from tensorflow) (0.30.0)\n",
            "Requirement already satisfied: six>=1.10.0 in /anaconda3/lib/python3.6/site-packages (from tensorflow) (1.11.0)\n",
            "Requirement already satisfied: protobuf>=3.6.1 in /anaconda3/lib/python3.6/site-packages (from tensorflow) (3.6.1)\n",
            "Requirement already satisfied: absl-py>=0.1.6 in /anaconda3/lib/python3.6/site-packages (from tensorflow) (0.6.1)\n",
            "Requirement already satisfied: keras-preprocessing>=1.0.5 in /anaconda3/lib/python3.6/site-packages (from tensorflow) (1.0.5)\n",
            "Requirement already satisfied: termcolor>=1.1.0 in /anaconda3/lib/python3.6/site-packages (from tensorflow) (1.1.0)\n",
            "Requirement already satisfied: h5py in /anaconda3/lib/python3.6/site-packages (from keras-applications>=1.0.6->tensorflow) (2.7.1)\n",
            "Requirement already satisfied: werkzeug>=0.11.10 in /anaconda3/lib/python3.6/site-packages (from tensorboard<1.13.0,>=1.12.0->tensorflow) (0.14.1)\n",
            "Requirement already satisfied: markdown>=2.6.8 in /anaconda3/lib/python3.6/site-packages (from tensorboard<1.13.0,>=1.12.0->tensorflow) (3.0.1)\n",
            "Requirement already satisfied: setuptools in /anaconda3/lib/python3.6/site-packages (from protobuf>=3.6.1->tensorflow) (38.4.0)\n",
            "\u001b[33mYou are using pip version 18.1, however version 19.1 is available.\n",
            "You should consider upgrading via the 'pip install --upgrade pip' command.\u001b[0m\n"
          ],
          "name": "stdout"
        }
      ]
    },
    {
      "cell_type": "markdown",
      "metadata": {
        "id": "0cKy7C2wXTl8",
        "colab_type": "text"
      },
      "source": [
        "GPU 버전"
      ]
    },
    {
      "cell_type": "code",
      "metadata": {
        "id": "rKfX-eObXTl9",
        "colab_type": "code",
        "outputId": "11ebbaee-a0e9-429d-b298-bb47d729c8ec",
        "colab": {}
      },
      "source": [
        "!pip install tensorflow-gpu"
      ],
      "execution_count": 0,
      "outputs": [
        {
          "output_type": "stream",
          "text": [
            "Collecting tensorflow-gpu\n",
            "\u001b[?25l  Downloading https://files.pythonhosted.org/packages/06/3a/5f7cf24af13265eaea2406d88fc3df5ad870aba0b4f4a0851213519f12bd/tensorflow_gpu-1.1.0-cp36-cp36m-macosx_10_11_x86_64.whl (81.2MB)\n",
            "\u001b[K    100% |████████████████████████████████| 81.2MB 697kB/s ta 0:00:011\n",
            "\u001b[?25hRequirement already satisfied: protobuf>=3.2.0 in /anaconda3/lib/python3.6/site-packages (from tensorflow-gpu) (3.6.1)\n",
            "Requirement already satisfied: werkzeug>=0.11.10 in /anaconda3/lib/python3.6/site-packages (from tensorflow-gpu) (0.14.1)\n",
            "Requirement already satisfied: numpy>=1.11.0 in /anaconda3/lib/python3.6/site-packages (from tensorflow-gpu) (1.15.3)\n",
            "Requirement already satisfied: six>=1.10.0 in /anaconda3/lib/python3.6/site-packages (from tensorflow-gpu) (1.11.0)\n",
            "Requirement already satisfied: wheel>=0.26 in /anaconda3/lib/python3.6/site-packages (from tensorflow-gpu) (0.30.0)\n",
            "Requirement already satisfied: setuptools in /anaconda3/lib/python3.6/site-packages (from protobuf>=3.2.0->tensorflow-gpu) (38.4.0)\n",
            "Installing collected packages: tensorflow-gpu\n",
            "Successfully installed tensorflow-gpu-1.1.0\n",
            "\u001b[33mYou are using pip version 18.1, however version 19.1 is available.\n",
            "You should consider upgrading via the 'pip install --upgrade pip' command.\u001b[0m\n"
          ],
          "name": "stdout"
        }
      ]
    },
    {
      "cell_type": "markdown",
      "metadata": {
        "id": "iC9RWxhbXTmB",
        "colab_type": "text"
      },
      "source": [
        "## 텐서플로 로지스틱 회귀 모형"
      ]
    },
    {
      "cell_type": "code",
      "metadata": {
        "id": "ZrNfzCgBXTmC",
        "colab_type": "code",
        "colab": {}
      },
      "source": [
        "#데이터 준비\n",
        "import requests\n",
        "url = 'http://archive.ics.uci.edu/ml/machine-learning-databases/00331/sentiment%20labelled%20sentences.zip'\n",
        "res = requests.get(url)\n",
        "with open('sentiment.zip', 'wb') as f:\n",
        "    f.write(res.content)\n",
        "\n",
        "from zipfile import ZipFile\n",
        "import pandas as pd\n",
        "\n",
        "z = ZipFile('sentiment.zip')\n",
        "f = z.open('sentiment labelled sentences/imdb_labelled.txt')\n",
        "movie = pd.read_csv(f, sep='\\t', header=None)\n",
        "\n",
        "movie.columns = ['review', 'sentiment']\n",
        "\n",
        "from sklearn.feature_extraction.text import CountVectorizer\n",
        "\n",
        "cv = CountVectorizer(max_features=1000)\n",
        "\n",
        "x = cv.fit_transform(movie['review'])\n",
        "\n",
        "y = movie['sentiment']"
      ],
      "execution_count": 0,
      "outputs": []
    },
    {
      "cell_type": "code",
      "metadata": {
        "id": "LZJuwLfyXTmE",
        "colab_type": "code",
        "colab": {}
      },
      "source": [
        "from sklearn.model_selection import train_test_split"
      ],
      "execution_count": 0,
      "outputs": []
    },
    {
      "cell_type": "code",
      "metadata": {
        "id": "3HZljHZtXTmG",
        "colab_type": "code",
        "colab": {}
      },
      "source": [
        "x_train, x_test, y_train, y_test = train_test_split(x, y, test_size=.2, random_state=1234)"
      ],
      "execution_count": 0,
      "outputs": []
    },
    {
      "cell_type": "code",
      "metadata": {
        "id": "bPVIRJJKXTmJ",
        "colab_type": "code",
        "colab": {}
      },
      "source": [
        "from tensorflow.keras.layers import Dense #텐서플로 내장된 케라스, 케라스와는 다른 케라스임\n",
        "from tensorflow.keras import Sequential"
      ],
      "execution_count": 0,
      "outputs": []
    },
    {
      "cell_type": "markdown",
      "metadata": {
        "id": "PHBjIBV1XTmM",
        "colab_type": "text"
      },
      "source": [
        "### 레이어 만들기"
      ]
    },
    {
      "cell_type": "code",
      "metadata": {
        "id": "HZ9wY_mnXTmN",
        "colab_type": "code",
        "colab": {}
      },
      "source": [
        "layer = Dense(1, activation='sigmoid', input_shape=(1000,)) "
      ],
      "execution_count": 0,
      "outputs": []
    },
    {
      "cell_type": "markdown",
      "metadata": {
        "id": "2HjymIc6XTmO",
        "colab_type": "text"
      },
      "source": [
        "- `Dense(1,`: 모든 입력과 출력이 연결된 레이어. 1개의 값을 출력.\n",
        "- `activation='sigmoid'`: 0~1 범위의 값을 출력\n",
        "- `input_shape=(1000,)`: 1000개의 단어가 입력"
      ]
    },
    {
      "cell_type": "markdown",
      "metadata": {
        "id": "LUsfOsOnXTmP",
        "colab_type": "text"
      },
      "source": [
        "### 모형 만들기"
      ]
    },
    {
      "cell_type": "code",
      "metadata": {
        "id": "6eGJH_HHXTmQ",
        "colab_type": "code",
        "colab": {}
      },
      "source": [
        "model = Sequential([layer])"
      ],
      "execution_count": 0,
      "outputs": []
    },
    {
      "cell_type": "markdown",
      "metadata": {
        "id": "QCC_KZF3XTmT",
        "colab_type": "text"
      },
      "source": [
        "### 모형 요약"
      ]
    },
    {
      "cell_type": "code",
      "metadata": {
        "id": "28gdVs93XTmT",
        "colab_type": "code",
        "outputId": "4a21dce7-a5b4-47fd-9c8c-a77a0249138d",
        "colab": {}
      },
      "source": [
        "model.summary()"
      ],
      "execution_count": 0,
      "outputs": [
        {
          "output_type": "stream",
          "text": [
            "_________________________________________________________________\n",
            "Layer (type)                 Output Shape              Param #   \n",
            "=================================================================\n",
            "dense (Dense)                (None, 1)                 1001      \n",
            "=================================================================\n",
            "Total params: 1,001\n",
            "Trainable params: 1,001\n",
            "Non-trainable params: 0\n",
            "_________________________________________________________________\n"
          ],
          "name": "stdout"
        }
      ]
    },
    {
      "cell_type": "markdown",
      "metadata": {
        "id": "STBMmwLPXTmW",
        "colab_type": "text"
      },
      "source": [
        "## 학습 설정"
      ]
    },
    {
      "cell_type": "code",
      "metadata": {
        "id": "3kM1C7fHXTmX",
        "colab_type": "code",
        "colab": {}
      },
      "source": [
        "from tensorflow.keras.optimizers import Adam"
      ],
      "execution_count": 0,
      "outputs": []
    },
    {
      "cell_type": "code",
      "metadata": {
        "id": "YT0KJA-yXTmZ",
        "colab_type": "code",
        "colab": {}
      },
      "source": [
        "model.compile(loss='binary_crossentropy', metrics=['accuracy'], optimizer=Adam())"
      ],
      "execution_count": 0,
      "outputs": []
    },
    {
      "cell_type": "markdown",
      "metadata": {
        "id": "vG1r8xc1XTmb",
        "colab_type": "text"
      },
      "source": [
        "- `binary_crossentropy`: 0 또는 1 형태의 예측에 사용\n",
        "- `optimizer=Adam`: 학습 알고리즘(`Adam`을 사용하면 됨)"
      ]
    },
    {
      "cell_type": "markdown",
      "metadata": {
        "id": "ltRQu8fdXTmd",
        "colab_type": "text"
      },
      "source": [
        "### 학습"
      ]
    },
    {
      "cell_type": "code",
      "metadata": {
        "id": "SKjJi9P7XTmd",
        "colab_type": "code",
        "outputId": "3e9052ed-1296-4207-ad19-b8ade866fe8a",
        "colab": {}
      },
      "source": [
        "model.fit(x_train, y_train, epochs=5)"
      ],
      "execution_count": 0,
      "outputs": [
        {
          "output_type": "stream",
          "text": [
            "Epoch 1/5\n",
            "598/598 [==============================] - 1s 1ms/step - loss: 0.6907 - acc: 0.5418\n",
            "Epoch 2/5\n",
            "598/598 [==============================] - 0s 30us/step - loss: 0.6760 - acc: 0.6020\n",
            "Epoch 3/5\n",
            "598/598 [==============================] - 0s 37us/step - loss: 0.6667 - acc: 0.6455\n",
            "Epoch 4/5\n",
            "598/598 [==============================] - 0s 33us/step - loss: 0.6559 - acc: 0.6823\n",
            "Epoch 5/5\n",
            "598/598 [==============================] - 0s 32us/step - loss: 0.6462 - acc: 0.7174\n"
          ],
          "name": "stdout"
        },
        {
          "output_type": "execute_result",
          "data": {
            "text/plain": [
              "<tensorflow.python.keras.callbacks.History at 0x1fb5eb89048>"
            ]
          },
          "metadata": {
            "tags": []
          },
          "execution_count": 18
        }
      ]
    },
    {
      "cell_type": "markdown",
      "metadata": {
        "id": "OQlWzoBIXTmi",
        "colab_type": "text"
      },
      "source": [
        "### 성능 평가"
      ]
    },
    {
      "cell_type": "code",
      "metadata": {
        "id": "2P8CMOa5XTmj",
        "colab_type": "code",
        "colab": {}
      },
      "source": [
        "from sklearn.metrics import accuracy_score"
      ],
      "execution_count": 0,
      "outputs": []
    },
    {
      "cell_type": "code",
      "metadata": {
        "id": "m97Zr-6qXTml",
        "colab_type": "code",
        "colab": {}
      },
      "source": [
        "y_pred = model.predict_classes(x_test)"
      ],
      "execution_count": 0,
      "outputs": []
    },
    {
      "cell_type": "code",
      "metadata": {
        "id": "jatCF39kXTmn",
        "colab_type": "code",
        "outputId": "d4b23519-9e2b-4dc5-9c28-08c9b87b2d66",
        "colab": {}
      },
      "source": [
        "accuracy_score(y_test, y_pred)"
      ],
      "execution_count": 0,
      "outputs": [
        {
          "output_type": "execute_result",
          "data": {
            "text/plain": [
              "0.5466666666666666"
            ]
          },
          "metadata": {
            "tags": []
          },
          "execution_count": 24
        }
      ]
    },
    {
      "cell_type": "markdown",
      "metadata": {
        "id": "gPdkorW9XTmq",
        "colab_type": "text"
      },
      "source": [
        "## 다층 신경망"
      ]
    },
    {
      "cell_type": "code",
      "metadata": {
        "id": "UnBkXqt0XTmq",
        "colab_type": "code",
        "colab": {}
      },
      "source": [
        "multi = Sequential([\n",
        "    Dense(16, activation='relu', input_shape=(1000,)),\n",
        "    Dense(1, activation='sigmoid')\n",
        "])"
      ],
      "execution_count": 0,
      "outputs": []
    },
    {
      "cell_type": "code",
      "metadata": {
        "id": "DvHx3-KXXTms",
        "colab_type": "code",
        "colab": {}
      },
      "source": [
        "multi.compile(loss='binary_crossentropy', metrics=['accuracy'], optimizer=Adam())"
      ],
      "execution_count": 0,
      "outputs": []
    },
    {
      "cell_type": "code",
      "metadata": {
        "id": "ov6Z0YwAXTmu",
        "colab_type": "code",
        "outputId": "e3c5f255-6d76-49f1-8497-f2fb3f790229",
        "colab": {}
      },
      "source": [
        "multi.fit(x_train, y_train, epochs=5)"
      ],
      "execution_count": 0,
      "outputs": [
        {
          "output_type": "stream",
          "text": [
            "Epoch 1/5\n",
            "598/598 [==============================] - 0s 804us/step - loss: 0.7044 - acc: 0.5535\n",
            "Epoch 2/5\n",
            "598/598 [==============================] - 0s 43us/step - loss: 0.6586 - acc: 0.7191\n",
            "Epoch 3/5\n",
            "598/598 [==============================] - 0s 45us/step - loss: 0.6292 - acc: 0.7793\n",
            "Epoch 4/5\n",
            "598/598 [==============================] - 0s 38us/step - loss: 0.5950 - acc: 0.8311\n",
            "Epoch 5/5\n",
            "598/598 [==============================] - 0s 38us/step - loss: 0.5587 - acc: 0.8763\n"
          ],
          "name": "stdout"
        },
        {
          "output_type": "execute_result",
          "data": {
            "text/plain": [
              "<tensorflow.python.keras.callbacks.History at 0x1fb5f7b3d30>"
            ]
          },
          "metadata": {
            "tags": []
          },
          "execution_count": 27
        }
      ]
    },
    {
      "cell_type": "markdown",
      "metadata": {
        "id": "MVYsp3CHXTmx",
        "colab_type": "text"
      },
      "source": [
        "### 성능 평가"
      ]
    },
    {
      "cell_type": "code",
      "metadata": {
        "id": "ep53go-KXTmx",
        "colab_type": "code",
        "colab": {}
      },
      "source": [
        "y_pred = multi.predict_classes(x_test)"
      ],
      "execution_count": 0,
      "outputs": []
    },
    {
      "cell_type": "code",
      "metadata": {
        "id": "F5p6chYEXTmz",
        "colab_type": "code",
        "outputId": "f8ca80bb-6db1-4ffc-a41d-8b4b2dd4a19d",
        "colab": {}
      },
      "source": [
        "accuracy_score(y_test, y_pred)"
      ],
      "execution_count": 0,
      "outputs": [
        {
          "output_type": "execute_result",
          "data": {
            "text/plain": [
              "0.7066666666666667"
            ]
          },
          "metadata": {
            "tags": []
          },
          "execution_count": 29
        }
      ]
    }
  ]
}